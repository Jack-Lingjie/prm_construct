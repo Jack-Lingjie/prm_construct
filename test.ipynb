{
 "cells": [
  {
   "cell_type": "code",
   "execution_count": null,
   "metadata": {},
   "outputs": [],
   "source": [
    "from models.mymodel import Generator\n",
    "model = Generator(\"Meta-Llama-3.1-8B-Instruct\", max_tokens=2048, temperature=0)\n",
    "# ans = model.generate(\"How to make a cake\")\n",
    "x = 'The following are multiple choice questions (with answers) about law. Think step by step and then finish your answer with \"the answer is (X)\" where X is the correct letter choice.\\nQuestion:\\nWhat is the judge ad hoc?\\nOptions:\\nA. Judge ad hoc is the president of the ICJ\\nB. Judge ad hoc is a temporary judge appointed for a specific period of time\\nC. Judge ad hoc is the judge that each party will always nominate in every contentious case\\nD. Judge ad hoc is the member of the bench of the ICJ with a casting vote\\nE. Judge ad hoc is a judge who is nominated by the parties involved in a contentious case, irrespective of their nationality\\nF. Judge ad hoc is a judge who decides on the admissibility of cases before the ICJ\\nG. Judge ad hoc is a judge appointed by the Security Council of the United Nations\\nH. Judge ad hoc is a surrogate judge, in case a judge is disqualified or passes away\\nI. If a party to a contentious case before the ICJ does not have a national sitting as judge, it is entitled to nominate someone as a judge solely for that case, with the title of judge ad hoc\\nAnswer: Let\\'s think step by step. We refer to Wikipedia articles on international law for help. As \"ad hoc\" implies, a judge ad hoc is appointed only for a specific case or period, when a party to a contentious case before the International Court of Justice does not have a regular national sitting as judge. The answer is (I).\\n\\nQuestion:\\nFunctions of the law include all but which of the following?\\nOptions:\\nA. defining the limits of government power\\nB. regulating the use of public spaces\\nC. keeping the peace\\nD. maximizing individual freedom\\nE. maintaining order and stability\\nF. preventing environmental degradation\\nG. providing a basis for compromise\\nH. promoting social justice\\nI. promoting the principles of the free enterprise system\\nJ. encouraging economic growth\\nAnswer: Let\\'s think step by step. We refer to Wikipedia articles on jurisprudence for help. Laws are fundamentally about helping resolve disputes between individuals, and therefore essential for maximizing individual freedom, providing a basis for compromise, and keeping the peace. The answer is (I).\\n\\nQuestion:\\nThe ________ School of jurisprudence postulates that the law is based on what is \"correct.\"\\nOptions:\\nA. Legal Pragmatism\\nB. Legal Formalism\\nC. Comparative\\nD. Analytical\\nE. Sociological\\nF. Historical\\nG. Critical Legal Studies\\nH. Realist\\nI. Positivist\\nJ. Natural Law\\nAnswer: Let\\'s think step by step. We refer to Wikipedia articles on jurisprudence for help. Natural Law School of jurisprudence focuses on the laws of nature, and states that the law should be based on ethics, morals, and what is \"correct\". Analytical deals with the law as it already exists, Historical postulates that the law was found and not made, and Sociological studies how the law and society impact each other. The answer is (J).\\n\\nQuestion:\\nA grocery store purchased a large mirror to hang on a wall in the store. Along with the mirror itself, the manufacturer provided brackets and bolts to be used for hanging the mirror. The grocery store paid a local carpenter to come in and hang the mirror. A few days after the carpenter installed the mirror, the mirror suddenly fell from the wall because of a defect in the brackets. It struck a shopper on the head, causing serious injuries to him. If the shopper asserts a claim against the carpenter based on strict liability in tort, the plaintiff will\\nOptions:\\nA. prevail, because the brackets were defective when installed.\\nB. prevail, because it would be abnormally dangerous to maintain such a large mirror on the wall of a retail outlet.\\nC. not prevail, because the carpenter was not engaged in the sale of the mirror.\\nD. not prevail, because the carpenter had no relationship of privily with the plaintiff.\\nAnswer: Let\\'s think step by step.'\n",
    "input_x = [x, x, x]\n",
    "text, complete = model.get_response(input_x)\n",
    "# get_response(model.llm, [input_x])\n",
    "print(text)"
   ]
  },
  {
   "cell_type": "markdown",
   "metadata": {},
   "source": [
    "## generate script"
   ]
  },
  {
   "cell_type": "code",
   "execution_count": 1,
   "metadata": {},
   "outputs": [
    {
     "name": "stdout",
     "output_type": "stream",
     "text": [
      "Generated scripts/run_1.sh\n",
      "Generated scripts/run_2.sh\n",
      "Generated scripts/run_3.sh\n",
      "Generated scripts/run_4.sh\n",
      "Generated scripts/run_5.sh\n",
      "Generated scripts/run_6.sh\n"
     ]
    }
   ],
   "source": [
    "import os  \n",
    "from my_task import get_task\n",
    "task = get_task(\"prm\")\n",
    "SAVE_PATH = '/mnt/lingjiejiang/textual_aesthetics/prm/data'\n",
    "# 总数据数量  \n",
    "total_tasks = len(task.full_test_df)\n",
    "# 每台机器的 GPU 数量  \n",
    "gpus_per_machine = 8  \n",
    "  \n",
    "# 确保 scripts 目录存在  \n",
    "os.makedirs('scripts', exist_ok=True)  \n",
    "  \n",
    "# 生成启动脚本  \n",
    "def generate_scripts(n_machines):  \n",
    "    tasks_per_machine = total_tasks // n_machines  \n",
    "    tasks_per_gpu = tasks_per_machine // gpus_per_machine  \n",
    "  \n",
    "    for machine_id in range(n_machines):  \n",
    "        script_lines = []  \n",
    "        for gpu_id in range(gpus_per_machine):  \n",
    "            task_start_index = machine_id * tasks_per_machine + gpu_id * tasks_per_gpu  \n",
    "            task_end_index = task_start_index + tasks_per_gpu  \n",
    "            log_file = f\"{SAVE_PATH}/logs/machine_{machine_id + 1}_gpu_{gpu_id}.log\"  \n",
    "            script_lines.append(  \n",
    "                f\"CUDA_VISIBLE_DEVICES={gpu_id} python run_test.py --task_start_index {task_start_index} --task_end_index {task_end_index} --steps 6 | tee {log_file} &\"  \n",
    "            )\n",
    "          \n",
    "        # 将最后一个命令的 & 去掉，并且添加 wait 以确保所有任务完成  \n",
    "        script_lines[-1] = script_lines[-1][:-2]  \n",
    "        script_lines.append(\"wait\")  \n",
    "          \n",
    "        script_content = \"\\n\".join(script_lines)  \n",
    "          \n",
    "        script_name = f\"scripts/run_{machine_id + 1}.sh\"  \n",
    "        with open(script_name, \"w\") as f:  \n",
    "            f.write(script_content)  \n",
    "        print(f\"Generated {script_name}\")  \n",
    "  \n",
    "# 假设有 3 台机器  \n",
    "n_machines = 6  \n",
    "generate_scripts(n_machines)  "
   ]
  },
  {
   "cell_type": "code",
   "execution_count": null,
   "metadata": {},
   "outputs": [],
   "source": [
    "x = \\\n",
    "\"\"\"You are a helpful assistant. Below is a series of example questions (with answers) for demonstration. You will be given a question at the end, after the examples, for you to answer. Think step by step and then finish your answer with \"the answer is (X)\" where X is the correct letter choice.\n",
    "Question:\n",
    "What is the judge ad hoc?\n",
    "Options:\n",
    "A. Judge ad hoc is the president of the ICJ\n",
    "B. Judge ad hoc is a temporary judge appointed for a specific period of time\n",
    "C. Judge ad hoc is the judge that each party will always nominate in every contentious case\n",
    "D. Judge ad hoc is the member of the bench of the ICJ with a casting vote\n",
    "E. Judge ad hoc is a judge who is nominated by the parties involved in a contentious case, irrespective of their nationality\n",
    "F. Judge ad hoc is a judge who decides on the admissibility of cases before the ICJ\n",
    "G. Judge ad hoc is a judge appointed by the Security Council of the United Nations\n",
    "H. Judge ad hoc is a surrogate judge, in case a judge is disqualified or passes away\n",
    "I. If a party to a contentious case before the ICJ does not have a national sitting as judge, it is entitled to nominate someone as a judge solely for that case, with the title of judge ad hoc\n",
    "Answer: Let's think step by step. \n",
    "Step 1: A judge ad hoc is appointed for specific cases, particularly when a party involved in a case before the ICJ does not have a national judge on the bench.\n",
    "Step 2: If a party to a contentious case before the ICJ does not have a national sitting as judge, it is entitled to nominate someone as a judge solely for that case, with the title of judge ad hoc.\n",
    "The answer is: I\n",
    "\n",
    "Question:\n",
    "Functions of the law include all but which of the following?\n",
    "Options:\n",
    "A. defining the limits of government power\n",
    "B. regulating the use of public spaces\n",
    "C. keeping the peace\n",
    "D. maximizing individual freedom\n",
    "E. maintaining order and stability\n",
    "F. preventing environmental degradation\n",
    "G. providing a basis for compromise\n",
    "H. promoting social justice\n",
    "I. promoting the principles of the free enterprise system\n",
    "J. encouraging economic growth\n",
    "Answer: Let's think step by step.\n",
    "Step 1: The functions of the law include various roles such as defining the limits of government power, regulating the use of public spaces, keeping the peace, maximizing individual freedom, maintaining order and stability, providing a basis for compromise, promoting social justice, promoting the principles of the free enterprise system, and encouraging economic growth.\n",
    "Step 2: One of the functions listed, \"preventing environmental degradation,\" is not traditionally considered a core function of the law. While environmental laws do exist, they are a subset of broader legal frameworks and not a primary function of the law itself.\n",
    "Step 3: Review the options to identify the one that does not align with the primary functions of the law.\n",
    "The answer is: F\n",
    "\n",
    "Question:\n",
    "A grocery store purchased a large mirror to hang on a wall in the store. Along with the mirror itself, the manufacturer provided brackets and bolts to be used for hanging the mirror. The grocery store paid a local carpenter to come in and hang the mirror. A few days after the carpenter installed the mirror, the mirror suddenly fell from the wall because of a defect in the brackets. It struck a shopper on the head, causing serious injuries to him. If the shopper asserts a claim against the carpenter based on strict liability in tort, the plaintiff will\n",
    "Options:\n",
    "A. prevail, because the brackets were defective when installed.\n",
    "B. prevail, because it would be abnormally dangerous to maintain such a large mirror on the wall of a retail outlet.\n",
    "C. not prevail, because the carpenter was not engaged in the sale of the mirror.\n",
    "D. not prevail, because the carpenter had no relationship of privily with the plaintiff.\n",
    "Answer: Let's think step by step.\"\"\"\n",
    "input_x = [x]\n",
    "ans = model.get_response(input_x)\n",
    "print(ans)"
   ]
  },
  {
   "cell_type": "code",
   "execution_count": null,
   "metadata": {},
   "outputs": [],
   "source": []
  },
  {
   "cell_type": "code",
   "execution_count": 1,
   "metadata": {},
   "outputs": [],
   "source": [
    "import os\n",
    "import json\n",
    "import argparse\n",
    "\n",
    "from my_task import get_task\n",
    "task = get_task(\"prm\")\n",
    "len(task.full_test_df)\n",
    "# if args.naive_run:\n",
    "#     file = f'./logs/{args.task}/{args.model_name}_{args.temperature}_naive_{args.prompt_sample}_sample_{args.n_generate_sample}_start{args.task_start_index}_end{args.task_end_index}.json'\n",
    "# else:\n",
    "#     file = f'./logs/{args.task}/{args.model_name}_{args.temperature}_{args.method_generate}{args.n_generate_sample}_{args.method_evaluate}{args.n_evaluate_sample}_{args.method_select}{args.n_select_sample}_start{args.task_start_index}_end{args.task_end_index}.json'\n",
    "# os.makedirs(os.path.dirname(file), exist_ok=True)\n",
    "input_data = task.get_input(901)\n",
    "# x = task.cot_prompt_wrap(input_data, model, k=0)\n",
    "# # x = \n",
    "# print(x)\n",
    "# with open('cot_prompt_lib/prompt_template.txt', 'w') as f:\n",
    "#     f.write(x)"
   ]
  },
  {
   "cell_type": "code",
   "execution_count": 2,
   "metadata": {},
   "outputs": [
    {
     "data": {
      "text/plain": [
       "{'question_id': 978,\n",
       " 'question': \"A man owned land along the south side of a highway. To the south of the man's land was a lot owned by a woman who lived on it in a house. Five years ago the man conveyed a right-of-way easement over his land to the woman because it provided a more direct route between her house and the highway. The easement was evidenced by a clearly marked path. The document granting the easement was promptly recorded. Three years ago, the woman conveyed her house to the man. The man never took actual possession of the house. Two years ago, the man conveyed the house to a purchaser by a warranty deed. Two months after the purchaser moved into the house, a neighbor informed him about the easement. He then began using the path that had been marked on the man's land. When the man noticed the purchaser using the path, he erected a barricade on his land that effectively prevented the purchaser from using the path. The purchaser has sued the man, claiming that he has an easement over the man's land. Who is likely to prevail?\",\n",
       " 'options': ['The man, because the easement was extinguished.',\n",
       "  'The man, because the purchaser did not have actual notice of the easement at the time of acquisition.',\n",
       "  'The purchaser, because he purchased the house by warranty deed.',\n",
       "  'The purchaser, because the easement was of public record when he acquired the house.'],\n",
       " 'answer': 'A',\n",
       " 'answer_index': 0,\n",
       " 'cot_content': '',\n",
       " 'category': 'law',\n",
       " 'src': 'ori_mmlu-professional_law'}"
      ]
     },
     "execution_count": 2,
     "metadata": {},
     "output_type": "execute_result"
    }
   ],
   "source": [
    "input_data"
   ]
  },
  {
   "cell_type": "code",
   "execution_count": null,
   "metadata": {},
   "outputs": [],
   "source": [
    "len(task.full_test_df)"
   ]
  },
  {
   "cell_type": "code",
   "execution_count": null,
   "metadata": {},
   "outputs": [],
   "source": [
    "ltask.full_test_df"
   ]
  },
  {
   "cell_type": "code",
   "execution_count": null,
   "metadata": {},
   "outputs": [],
   "source": [
    "import re\n",
    "def extract_answer(text):  \n",
    "    # Pattern to match different formats of \"The answer is: C\"  \n",
    "    pattern = r\"answer is[:\\s]*\\(?(?P<answer>[A-J])\\)?\"  \n",
    "    match = re.search(pattern, text, re.IGNORECASE)  \n",
    "    if match:  \n",
    "        return match.group(\"answer\")  \n",
    "    else:  \n",
    "        print(\"1st answer extract failed\\n\" + text)  \n",
    "        return extract_again(text)  \n",
    "  \n",
    "def extract_again(text):  \n",
    "    # Pattern to match formats like \"Answer: C\"  \n",
    "    pattern = r'.*[aA]nswer[:\\s]*([A-J])'  \n",
    "    match = re.search(pattern, text)  \n",
    "    if match:  \n",
    "        return match.group(1)  \n",
    "    else:  \n",
    "        return extract_final(text)  \n",
    "\n",
    "def extract_final(text):\n",
    "    pattern = r\"\\b[A-J]\\b(?!.*\\b[A-J]\\b)\"\n",
    "    match = re.search(pattern, text, re.DOTALL)\n",
    "    if match:\n",
    "        return match.group(0)\n",
    "    else:\n",
    "        return None\n",
    "x = \\\n",
    "\"\"\"Step 1: The shopper is asserting a claim against the carpenter based on strict liability in tort, which is a type of liability where the defendant is held responsible for harm caused by a product, even if the defendant was not negligent.\n",
    "Step 2: In this case, the carpenter installed the mirror, which included the defective brackets provided by the manufacturer. The shopper was injured by the falling mirror.\n",
    "Step 3: To determine whether the shopper will prevail, we need to consider whether the carpenter is a \"seller\" or a \"manufacturer\" of the product that caused the injury. If the carpenter is a seller, then they may be held strictly liable for the harm caused by the defective product.\n",
    "Step 4: However, the carpenter was hired to install the mirror, not to sell it. Therefore, the carpenter is not a seller of the product.\n",
    "Step 5: The shopper's claim against the carpenter is unlikely to succeed because the carpenter was not engaged in the sale of the mirror, but rather was hired to install it.\n",
    "The answ: C X.\"\"\"\n",
    "ans = extract_answer(x)\n",
    "print(ans)"
   ]
  },
  {
   "cell_type": "code",
   "execution_count": null,
   "metadata": {},
   "outputs": [],
   "source": [
    "# x = \"How to get the answer of (x*3 + y^4)^2 - 100?\"\n",
    "# x_2 = '<|begin_of_text|><|start_header_id|>system<|end_header_id|>\\n\\nCutting Knowledge Date: December 2023\\nToday Date: 26 Jul 2024\\n\\n<|eot_id|><|start_header_id|>user<|end_header_id|>\\n\\nYou are a helpful assistant. Below is a series of example questions (with answers) for demonstration. You will be given a question at the end, after the examples, for you to answer. Think step by step and then finish your answer with \"the answer is (X)\" where X is the correct letter choice.\\nQuestion:\\nWhat is the judge ad hoc?\\nOptions:\\nA. Judge ad hoc is the president of the ICJ\\nB. Judge ad hoc is a temporary judge appointed for a specific period of time\\nC. Judge ad hoc is the judge that each party will always nominate in every contentious case\\nD. Judge ad hoc is the member of the bench of the ICJ with a casting vote\\nE. Judge ad hoc is a judge who is nominated by the parties involved in a contentious case, irrespective of their nationality\\nF. Judge ad hoc is a judge who decides on the admissibility of cases before the ICJ\\nG. Judge ad hoc is a judge appointed by the Security Council of the United Nations\\nH. Judge ad hoc is a surrogate judge, in case a judge is disqualified or passes away\\nI. If a party to a contentious case before the ICJ does not have a national sitting as judge, it is entitled to nominate someone as a judge solely for that case, with the title of judge ad hoc\\nAnswer: Let\\'s think step by step. \\nStep 1: A judge ad hoc is appointed for specific cases, particularly when a party involved in a case before the ICJ does not have a national judge on the bench.\\nStep 2: If a party to a contentious case before the ICJ does not have a national sitting as judge, it is entitled to nominate someone as a judge solely for that case, with the title of judge ad hoc.\\nThe answer is: I\\n\\nQuestion:\\nFunctions of the law include all but which of the following?\\nOptions:\\nA. defining the limits of government power\\nB. regulating the use of public spaces\\nC. keeping the peace\\nD. maximizing individual freedom\\nE. maintaining order and stability\\nF. preventing environmental degradation\\nG. providing a basis for compromise\\nH. promoting social justice\\nI. promoting the principles of the free enterprise system\\nJ. encouraging economic growth\\nAnswer: Let\\'s think step by step.\\nStep 1: The functions of the law include various roles such as defining the limits of government power, regulating the use of public spaces, keeping the peace, maximizing individual freedom, maintaining order and stability, providing a basis for compromise, promoting social justice, promoting the principles of the free enterprise system, and encouraging economic growth.\\nStep 2: One of the functions listed, \"preventing environmental degradation,\" is not traditionally considered a core function of the law. While environmental laws do exist, they are a subset of broader legal frameworks and not a primary function of the law itself.\\nStep 3: Review the options to identify the one that does not align with the primary functions of the law.\\nThe answer is: F\\n\\nQuestion:\\nA man owned land along the south side of a highway. To the south of the man\\'s land was a lot owned by a woman who lived on it in a house. Five years ago the man conveyed a right-of-way easement over his land to the woman because it provided a more direct route between her house and the highway. The easement was evidenced by a clearly marked path. The document granting the easement was promptly recorded. Three years ago, the woman conveyed her house to the man. The man never took actual possession of the house. Two years ago, the man conveyed the house to a purchaser by a warranty deed. Two months after the purchaser moved into the house, a neighbor informed him about the easement. He then began using the path that had been marked on the man\\'s land. When the man noticed the purchaser using the path, he erected a barricade on his land that effectively prevented the purchaser from using the path. The purchaser has sued the man, claiming that he has an easement over the man\\'s land. Who is likely to prevail?\\nOptions:\\nA. The man, because the easement was extinguished.\\nB. The man, because the purchaser did not have actual notice of the easement at the time of acquisition.\\nC. The purchaser, because he purchased the house by warranty deed.\\nD. The purchaser, because the easement was of public record when he acquired the house.\\nAnswer: Let\\'s think step by step.<|eot_id|><|start_header_id|>assistant<|end_header_id|>\\n\\n'\n",
    "input = [x]\n",
    "text, complete = model.get_next_response(input)\n",
    "# get_response(model.llm, [input_x])\n",
    "print(text)"
   ]
  },
  {
   "cell_type": "code",
   "execution_count": null,
   "metadata": {},
   "outputs": [],
   "source": [
    "# x = \"How to get the answer of (x*3 + y^4)^2 - 100?\"\n",
    "x_2 = x + \" \\n\\nStep 1: The man originally granted an easement to the woman, which was recorded and marked on the land. This created a visible and recorded right-of-way for the woman's benefit.\"\n",
    "# x_2 = '<|begin_of_text|><|start_header_id|>system<|end_header_id|>\\n\\nCutting Knowledge Date: December 2023\\nToday Date: 26 Jul 2024\\n\\n<|eot_id|><|start_header_id|>user<|end_header_id|>\\n\\nYou are a helpful assistant. Below is a series of example questions (with answers) for demonstration. You will be given a question at the end, after the examples, for you to answer. Think step by step and then finish your answer with \"the answer is (X)\" where X is the correct letter choice.\\nQuestion:\\nWhat is the judge ad hoc?\\nOptions:\\nA. Judge ad hoc is the president of the ICJ\\nB. Judge ad hoc is a temporary judge appointed for a specific period of time\\nC. Judge ad hoc is the judge that each party will always nominate in every contentious case\\nD. Judge ad hoc is the member of the bench of the ICJ with a casting vote\\nE. Judge ad hoc is a judge who is nominated by the parties involved in a contentious case, irrespective of their nationality\\nF. Judge ad hoc is a judge who decides on the admissibility of cases before the ICJ\\nG. Judge ad hoc is a judge appointed by the Security Council of the United Nations\\nH. Judge ad hoc is a surrogate judge, in case a judge is disqualified or passes away\\nI. If a party to a contentious case before the ICJ does not have a national sitting as judge, it is entitled to nominate someone as a judge solely for that case, with the title of judge ad hoc\\nAnswer: Let\\'s think step by step. \\nStep 1: A judge ad hoc is appointed for specific cases, particularly when a party involved in a case before the ICJ does not have a national judge on the bench.\\nStep 2: If a party to a contentious case before the ICJ does not have a national sitting as judge, it is entitled to nominate someone as a judge solely for that case, with the title of judge ad hoc.\\nThe answer is: I\\n\\nQuestion:\\nFunctions of the law include all but which of the following?\\nOptions:\\nA. defining the limits of government power\\nB. regulating the use of public spaces\\nC. keeping the peace\\nD. maximizing individual freedom\\nE. maintaining order and stability\\nF. preventing environmental degradation\\nG. providing a basis for compromise\\nH. promoting social justice\\nI. promoting the principles of the free enterprise system\\nJ. encouraging economic growth\\nAnswer: Let\\'s think step by step.\\nStep 1: The functions of the law include various roles such as defining the limits of government power, regulating the use of public spaces, keeping the peace, maximizing individual freedom, maintaining order and stability, providing a basis for compromise, promoting social justice, promoting the principles of the free enterprise system, and encouraging economic growth.\\nStep 2: One of the functions listed, \"preventing environmental degradation,\" is not traditionally considered a core function of the law. While environmental laws do exist, they are a subset of broader legal frameworks and not a primary function of the law itself.\\nStep 3: Review the options to identify the one that does not align with the primary functions of the law.\\nThe answer is: F\\n\\nQuestion:\\nA man owned land along the south side of a highway. To the south of the man\\'s land was a lot owned by a woman who lived on it in a house. Five years ago the man conveyed a right-of-way easement over his land to the woman because it provided a more direct route between her house and the highway. The easement was evidenced by a clearly marked path. The document granting the easement was promptly recorded. Three years ago, the woman conveyed her house to the man. The man never took actual possession of the house. Two years ago, the man conveyed the house to a purchaser by a warranty deed. Two months after the purchaser moved into the house, a neighbor informed him about the easement. He then began using the path that had been marked on the man\\'s land. When the man noticed the purchaser using the path, he erected a barricade on his land that effectively prevented the purchaser from using the path. The purchaser has sued the man, claiming that he has an easement over the man\\'s land. Who is likely to prevail?\\nOptions:\\nA. The man, because the easement was extinguished.\\nB. The man, because the purchaser did not have actual notice of the easement at the time of acquisition.\\nC. The purchaser, because he purchased the house by warranty deed.\\nD. The purchaser, because the easement was of public record when he acquired the house.\\nAnswer: Let\\'s think step by step.<|eot_id|><|start_header_id|>assistant<|end_header_id|>\\n\\n'\n",
    "input = [x_2]\n",
    "text, complete = model.get_next_response(input)\n",
    "# get_response(model.llm, [input_x])\n",
    "print(text)"
   ]
  },
  {
   "cell_type": "code",
   "execution_count": null,
   "metadata": {},
   "outputs": [],
   "source": [
    "# x = \"How to get the answer of (x*3 + y^4)^2 - 100?\"\n",
    "x_2 = '<|begin_of_text|><|start_header_id|>system<|end_header_id|>\\n\\nCutting Knowledge Date: December 2023\\nToday Date: 26 Jul 2024\\n\\n<|eot_id|><|start_header_id|>user<|end_header_id|>\\n\\nYou are a helpful assistant. Below is a series of example questions (with answers) for demonstration. You will be given a question at the end, after the examples, for you to answer. Think step by step and then finish your answer with \"the answer is (X)\" where X is the correct letter choice.\\nQuestion:\\nWhat is the judge ad hoc?\\nOptions:\\nA. Judge ad hoc is the president of the ICJ\\nB. Judge ad hoc is a temporary judge appointed for a specific period of time\\nC. Judge ad hoc is the judge that each party will always nominate in every contentious case\\nD. Judge ad hoc is the member of the bench of the ICJ with a casting vote\\nE. Judge ad hoc is a judge who is nominated by the parties involved in a contentious case, irrespective of their nationality\\nF. Judge ad hoc is a judge who decides on the admissibility of cases before the ICJ\\nG. Judge ad hoc is a judge appointed by the Security Council of the United Nations\\nH. Judge ad hoc is a surrogate judge, in case a judge is disqualified or passes away\\nI. If a party to a contentious case before the ICJ does not have a national sitting as judge, it is entitled to nominate someone as a judge solely for that case, with the title of judge ad hoc\\nAnswer: Let\\'s think step by step. \\nStep 1: A judge ad hoc is appointed for specific cases, particularly when a party involved in a case before the ICJ does not have a national judge on the bench.\\nStep 2: If a party to a contentious case before the ICJ does not have a national sitting as judge, it is entitled to nominate someone as a judge solely for that case, with the title of judge ad hoc.\\nThe answer is: I\\n\\nQuestion:\\nFunctions of the law include all but which of the following?\\nOptions:\\nA. defining the limits of government power\\nB. regulating the use of public spaces\\nC. keeping the peace\\nD. maximizing individual freedom\\nE. maintaining order and stability\\nF. preventing environmental degradation\\nG. providing a basis for compromise\\nH. promoting social justice\\nI. promoting the principles of the free enterprise system\\nJ. encouraging economic growth\\nAnswer: Let\\'s think step by step.\\nStep 1: The functions of the law include various roles such as defining the limits of government power, regulating the use of public spaces, keeping the peace, maximizing individual freedom, maintaining order and stability, providing a basis for compromise, promoting social justice, promoting the principles of the free enterprise system, and encouraging economic growth.\\nStep 2: One of the functions listed, \"preventing environmental degradation,\" is not traditionally considered a core function of the law. While environmental laws do exist, they are a subset of broader legal frameworks and not a primary function of the law itself.\\nStep 3: Review the options to identify the one that does not align with the primary functions of the law.\\nThe answer is: F\\n\\nQuestion:\\nA man owned land along the south side of a highway. To the south of the man\\'s land was a lot owned by a woman who lived on it in a house. Five years ago the man conveyed a right-of-way easement over his land to the woman because it provided a more direct route between her house and the highway. The easement was evidenced by a clearly marked path. The document granting the easement was promptly recorded. Three years ago, the woman conveyed her house to the man. The man never took actual possession of the house. Two years ago, the man conveyed the house to a purchaser by a warranty deed. Two months after the purchaser moved into the house, a neighbor informed him about the easement. He then began using the path that had been marked on the man\\'s land. When the man noticed the purchaser using the path, he erected a barricade on his land that effectively prevented the purchaser from using the path. The purchaser has sued the man, claiming that he has an easement over the man\\'s land. Who is likely to prevail?\\nOptions:\\nA. The man, because the easement was extinguished.\\nB. The man, because the purchaser did not have actual notice of the easement at the time of acquisition.\\nC. The purchaser, because he purchased the house by warranty deed.\\nD. The purchaser, because the easement was of public record when he acquired the house.\\nAnswer: Let\\'s think step by step.<|eot_id|><|start_header_id|>assistant<|end_header_id|>\\n\\n'\n",
    "input = [x_2]\n",
    "text, complete = model.get_response(input)\n",
    "# get_response(model.llm, [input_x])\n",
    "print(text)"
   ]
  },
  {
   "cell_type": "code",
   "execution_count": null,
   "metadata": {},
   "outputs": [],
   "source": [
    "def select_by_category(df, subject):\n",
    "    res = []\n",
    "    for each in df:\n",
    "        if each[\"category\"] == subject:\n",
    "            res.append(each)\n",
    "    return res\n",
    "full_test_df = task.full_test_df \n",
    "full_val_df = task.full_val_df\n",
    "all_subjects = []\n",
    "for each in task.full_test_df:\n",
    "    if each[\"category\"] not in all_subjects:\n",
    "        all_subjects.append(each[\"category\"])\n",
    "with open('cot_prompt_lib/prompt_template_subjects.txt', 'w') as f:\n",
    "    for subject in all_subjects:\n",
    "        print(subject)\n",
    "        f.write(subject + '\\n')\n",
    "        print(select_by_category(task.full_test_df, subject))\n",
    "        val_df = select_by_category(full_val_df, subject)\n",
    "        input_data = val_df[0]\n",
    "        x = task.cot_prompt_wrap(input_data, k=3)\n",
    "        f.write(x + '\\n')"
   ]
  },
  {
   "cell_type": "code",
   "execution_count": null,
   "metadata": {},
   "outputs": [],
   "source": [
    "import re\n",
    "TARGET = \"the answer is\"\n",
    "def extract_content_before_ith_delimiter(delimiter, input_string, i): \n",
    "    input_string_lower = input_string.lower()\n",
    "    target_pos = input_string_lower.find(TARGET)\n",
    "    print(target_pos)\n",
    "    if target_pos == -1:\n",
    "        return \"\"\n",
    "    input_string = input_string[:target_pos]\n",
    "\n",
    "    # 使用正则表达式查找所有匹配的位置  \n",
    "    step_pattern = re.compile(re.escape(delimiter), re.IGNORECASE)  \n",
    "    matches = list(step_pattern.finditer(input_string))  \n",
    "    print(len(matches))\n",
    "    if len(matches) >= i:  \n",
    "        # 找到第 i + 1 个 Step 的位置，并返回其之前的内容  \n",
    "        return input_string[:matches[i].start()] \n",
    "    elif len(matches) <= 1:  \n",
    "        # 如果没有找到第 i 个 Step，返回空\n",
    "        return \"\"\n",
    "input_string = \" \\n\\nStep 1: The man originally granted an easement to the woman, which was recorded and marked on the land. This created a visible and recorded right-of-way for the woman's benefit.\\nStep 2: The woman later conveyed the house to the man, but he never took possession of it. This transfer of ownership does not affect the pre-existing easement.\\nStep 3: The man then conveyed the house to the purchaser, who was unaware of the easement at the time of acquisition. However, the easement was recorded and visible on the land.\\nStep 4: The purchaser's lack of actual notice does not matter, as the easement was recorded and visible. The purchaser's use of the easement is not an invasion of the man's property rights, but rather an exercise of the pre-existing easement.\\nStep 5: The man's attempt to erect a barricade to prevent the purchaser from using the easement is an attempt to extinguish a valid easement, which is not permissible.\\n\\nThe answer is: D\"\n",
    "# input_string = \"\"\n",
    "res = extract_content_before_ith_delimiter(\"StEp\", input_string, 4)\n",
    "print(repr(res))\n"
   ]
  }
 ],
 "metadata": {
  "kernelspec": {
   "display_name": "eval",
   "language": "python",
   "name": "python3"
  },
  "language_info": {
   "codemirror_mode": {
    "name": "ipython",
    "version": 3
   },
   "file_extension": ".py",
   "mimetype": "text/x-python",
   "name": "python",
   "nbconvert_exporter": "python",
   "pygments_lexer": "ipython3",
   "version": "3.10.15"
  }
 },
 "nbformat": 4,
 "nbformat_minor": 2
}
